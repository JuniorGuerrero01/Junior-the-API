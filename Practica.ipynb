{
 "cells": [
  {
   "cell_type": "code",
   "execution_count": 11,
   "id": "5c3f8ad8-671e-4feb-96cd-cde5b5112c88",
   "metadata": {},
   "outputs": [
    {
     "name": "stdout",
     "output_type": "stream",
     "text": [
      "Convertir Minutos A Horas\n",
      "Escriba la cantida de minutos: \n"
     ]
    },
    {
     "name": "stdin",
     "output_type": "stream",
     "text": [
      "None 700\n"
     ]
    },
    {
     "name": "stdout",
     "output_type": "stream",
     "text": [
      "El cantidad de hora es:  11.0 horas y 40.0 Minutos\n"
     ]
    }
   ],
   "source": [
    "## Pide al usario que ingrese una cantidad de minutos y conviertela en horas y minutos usando la division entera(//) y el residuo (%)\n",
    "## ejemplo: Ingrese minuto: 130\n",
    "## Resultado: 2 horas y 10 minutos\n",
    "print(\"Convertir Minutos A Horas\")\n",
    "\n",
    "minutos = float(input(print(\"Escriba la cantida de minutos: \")))\n",
    "horas = 60\n",
    "\n",
    "resultado = minutos//horas\n",
    "residuo = minutos%horas\n",
    "\n",
    "print(\"El cantidad de hora es: \",resultado, \"horas y\",residuo, \"Minutos\")\n",
    "\n"
   ]
  },
  {
   "cell_type": "code",
   "execution_count": 19,
   "id": "e83d9c6f-645d-4b6f-848b-9fd4cdbf4737",
   "metadata": {},
   "outputs": [
    {
     "name": "stdout",
     "output_type": "stream",
     "text": [
      "Multiplicador de palabras\n",
      "\n",
      "Ingrese la palabra a multiplicar\n"
     ]
    },
    {
     "name": "stdin",
     "output_type": "stream",
     "text": [
      "None junior\n"
     ]
    },
    {
     "name": "stdout",
     "output_type": "stream",
     "text": [
      "Ingrese el numero que desea que la palabra se multiplique\n"
     ]
    },
    {
     "name": "stdin",
     "output_type": "stream",
     "text": [
      "None 5\n"
     ]
    },
    {
     "name": "stdout",
     "output_type": "stream",
     "text": [
      "juniorjuniorjuniorjuniorjunior  \n"
     ]
    }
   ],
   "source": [
    "## Pide al usario que escriba una palabra y un numero entero. imprime la palabra repetida esa cantidad de veces\n",
    "## usando multiplicacion con cadenas.\n",
    "\n",
    "print(\"Multiplicador de palabras\\n\")\n",
    "\n",
    "Palabra = str(input(print(\"Ingrese la palabra a multiplicar\")))\n",
    "veces_repetida = int(input(print(\"Ingrese el numero que desea que la palabra se multiplique\")))\n",
    "repetidas = veces_repetida*Palabra\n",
    "print(repetidas,\" \")"
   ]
  },
  {
   "cell_type": "code",
   "execution_count": 24,
   "id": "930669ab-7dba-4f27-a3f0-6ba66052e259",
   "metadata": {},
   "outputs": [
    {
     "name": "stdout",
     "output_type": "stream",
     "text": [
      "Remplazador de palabras\n",
      "\n",
      "Ingrese la Frase\n"
     ]
    },
    {
     "name": "stdin",
     "output_type": "stream",
     "text": [
      "None Candela chipa \n"
     ]
    },
    {
     "name": "stdout",
     "output_type": "stream",
     "text": [
      "C@NDEL@ CHIP@ \n"
     ]
    }
   ],
   "source": [
    "## Pide al usario que escriba una frase. luego\n",
    "## 1. conviertela a mayuscula\n",
    "## 2. Remplaza todas las letras A por @\n",
    "## 3. imprime el resultado\n",
    "\n",
    "print(\"Remplazador de palabras\\n\")\n",
    "\n",
    "Frase = (input(print(\"Ingrese la Frase\")))\n",
    "mayuscula = Frase.upper()\n",
    "remplazar = mayuscula.replace(\"A\",\"@\")\n",
    "\n",
    "print(remplazar)"
   ]
  },
  {
   "cell_type": "code",
   "execution_count": 35,
   "id": "d36e5c39-ceff-4dd7-a426-aa4609a4adea",
   "metadata": {},
   "outputs": [
    {
     "name": "stdout",
     "output_type": "stream",
     "text": [
      "Encontrar la Palabra\n",
      "\n",
      "Ingrese una frase\n"
     ]
    },
    {
     "name": "stdin",
     "output_type": "stream",
     "text": [
      "None chipa y fuego\n"
     ]
    },
    {
     "name": "stdout",
     "output_type": "stream",
     "text": [
      "Ingresa otra palabra\n"
     ]
    },
    {
     "name": "stdin",
     "output_type": "stream",
     "text": [
      "None carro\n"
     ]
    },
    {
     "name": "stdout",
     "output_type": "stream",
     "text": [
      "La palabra carro no se encontro esta frase \n"
     ]
    }
   ],
   "source": [
    "## Pide al usario una frase y luego otra palabra. usa find para saber en que posicion aparece esa palabra en la frase\n",
    "## Si no aparece imprime la palabra no fue encontrada\n",
    "## si aparece escribe la palabra empieza por la posicion X\n",
    "\n",
    "print(\"Encontrar la Palabra\\n\")\n",
    "\n",
    "frase = (input(print(\"Ingrese una frase\")))\n",
    "palabra = (input(print(\"Ingresa otra palabra\")))\n",
    "\n",
    "encontrada = frase.find(palabra)\n",
    "\n",
    "if encontrada ==-1: print(f\"La palabra {palabra} no se encontro esta frase \")\n",
    "\n",
    "else: print(f\"La palabra '{palabra}' se ecnontro la palabra en la posicion: {encontrada} \")\n"
   ]
  },
  {
   "cell_type": "code",
   "execution_count": null,
   "id": "92dd9d69-b129-4b37-8381-5b3e15ee6af9",
   "metadata": {},
   "outputs": [
    {
     "name": "stdout",
     "output_type": "stream",
     "text": [
      "Datos del usario\n",
      "Ingrese su Nombre\n"
     ]
    },
    {
     "name": "stdin",
     "output_type": "stream",
     "text": [
      "None omar\n"
     ]
    },
    {
     "name": "stdout",
     "output_type": "stream",
     "text": [
      "Ingrese su edad\n"
     ]
    },
    {
     "name": "stdin",
     "output_type": "stream",
     "text": [
      "None 55\n",
      "Ingrese su ciudad california\n"
     ]
    }
   ],
   "source": [
    "## Haz un programa que pida al usario:\n",
    "## su nombre\n",
    "## su edad\n",
    "## su ciudad\n",
    "\n",
    "print(\"Datos del usario\")\n",
    "\n",
    "Nombre = input(print(\"Ingrese su Nombre\"))\n",
    "edad = input(print(\"Ingrese su edad\"))\n",
    "ciudad = input(input(\"Ingrese su ciudad\"))\n",
    "\n",
    "print(f\"hola {Nombre}\\n tu edad es de {edad}\\n y vives en {ciudad}\\n\")"
   ]
  },
  {
   "cell_type": "code",
   "execution_count": null,
   "id": "a4c9646d-c890-4666-b6e9-1da9758480e9",
   "metadata": {},
   "outputs": [],
   "source": []
  }
 ],
 "metadata": {
  "kernelspec": {
   "display_name": "Python 3 (ipykernel)",
   "language": "python",
   "name": "python3"
  },
  "language_info": {
   "codemirror_mode": {
    "name": "ipython",
    "version": 3
   },
   "file_extension": ".py",
   "mimetype": "text/x-python",
   "name": "python",
   "nbconvert_exporter": "python",
   "pygments_lexer": "ipython3",
   "version": "3.13.5"
  }
 },
 "nbformat": 4,
 "nbformat_minor": 5
}
