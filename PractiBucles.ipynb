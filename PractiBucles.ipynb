{
 "cells": [
  {
   "cell_type": "code",
   "execution_count": 21,
   "id": "1cbda211-05b0-48b2-a676-75342b6ff879",
   "metadata": {},
   "outputs": [
    {
     "name": "stdin",
     "output_type": "stream",
     "text": [
      "Escriba la tabla que desea aprender 9\n"
     ]
    },
    {
     "name": "stdout",
     "output_type": "stream",
     "text": [
      "9 x 1 es 9\n",
      "9 x 2 es 18\n",
      "9 x 3 es 27\n",
      "9 x 4 es 36\n",
      "9 x 5 es 45\n",
      "9 x 6 es 54\n",
      "9 x 7 es 63\n",
      "9 x 8 es 72\n",
      "9 x 9 es 81\n",
      "9 x 10 es 90\n"
     ]
    }
   ],
   "source": [
    "## Crea una funcion que reciba un numero y muestre su tabla de multiplicar del 1 al 10 usando un bucle for ej: tabla 8\n",
    "\n",
    "numero = int(input(\"Escriba la tabla que desea aprender\"))\n",
    "def tabla_multiplicar(numero):\n",
    " for i in range(1,11):\n",
    "    print(f\"{numero} x {i} es {numero*i }\")\n",
    "tabla_multiplicar(numero)\n",
    "\n",
    "\n",
    "\n"
   ]
  },
  {
   "cell_type": "code",
   "execution_count": 50,
   "id": "7e7dd9e6-65e3-4fcd-bac4-b51b986ccbb5",
   "metadata": {},
   "outputs": [
    {
     "name": "stdin",
     "output_type": "stream",
     "text": [
      "Ingrese la primera nota:  66\n",
      "Ingrese la segunda nota:  99\n",
      "Ingrese la tercera nota:  69\n",
      "Ingrese la cuarta nota:  80\n",
      "Ingrese la quinta nota:  99\n",
      "Ingrese la quinta nota:  100\n"
     ]
    },
    {
     "name": "stdout",
     "output_type": "stream",
     "text": [
      "[66, 99, 69, 80, 99, 100]\n",
      "El promedio es de: 85.5\n",
      "Esta es la notas mas baja 66\n",
      "Esta es la nota mas alta 100\n",
      "Aqui estan las notas ordenadas:\n",
      "\n",
      "[66, 69, 80, 99, 99, 100]\n"
     ]
    }
   ],
   "source": [
    "## Analisis de calificaciones (listas + funciones + sorted)\n",
    "## 1. pidele al usuario 5 notas y guardalas en una lista.\n",
    "## 2. usa una funcion que calcule\n",
    "##    el promedio\n",
    "##    la nota mas baja y la mas alta con min y max o con sorted\n",
    "## luego imprime los resultados con una lista de mayor a menor con sorted\n",
    "\n",
    "Nota = int(input(\"Ingrese la primera nota: \"))\n",
    "Nota1 = int(input(\"Ingrese la segunda nota: \"))\n",
    "Nota2 = int(input(\"Ingrese la tercera nota: \"))\n",
    "Nota3 = int(input(\"Ingrese la cuarta nota: \"))\n",
    "Nota4 = int(input(\"Ingrese la quinta nota: \"))\n",
    "Nota5 = int(input(\"Ingrese la quinta nota: \"))\n",
    "\n",
    "Notas = []\n",
    "Notas.append(Nota)\n",
    "Notas.append(Nota1)\n",
    "Notas.append(Nota2)\n",
    "Notas.append(Nota3)\n",
    "Notas.append(Nota4)\n",
    "Notas.append(Nota5)\n",
    "\n",
    "print(Notas)\n",
    "\n",
    "def obtener_notas(Notas):\n",
    " suma = sum(Notas)\n",
    " promedio = suma / len(Notas)\n",
    " return suma,promedio\n",
    "\n",
    "suma,promedio = obtener_notas(Notas)\n",
    "print(f\"El promedio es de: {promedio}\")\n",
    "\n",
    "notamina = min(Notas)\n",
    "maxnota = max(Notas)\n",
    "\n",
    "print(\"Esta es la notas mas baja\", notamina)\n",
    "print(\"Esta es la nota mas alta\", maxnota)\n",
    "ordenar = sorted(Notas)\n",
    "print(\"Aqui estan las notas ordenadas:\\n\")\n",
    "\n",
    "print(ordenar)\n",
    "\n",
    "\n",
    "\n",
    "\n",
    "   \n",
    "\n",
    "\n",
    "\n",
    "\n",
    "\n",
    "\n"
   ]
  },
  {
   "cell_type": "code",
   "execution_count": 66,
   "id": "dc1e46c1-d127-4f86-ace6-c341cac5de19",
   "metadata": {},
   "outputs": [
    {
     "name": "stdout",
     "output_type": "stream",
     "text": [
      "\n",
      "--- MENÚ ---\n",
      "1. Agregar un número a la lista\n",
      "2. Mostrar todos los números\n",
      "3. Ordenar la lista de menor a mayor\n",
      "4. Calcular la suma total de la lista\n",
      "5. Salir\n"
     ]
    },
    {
     "name": "stdin",
     "output_type": "stream",
     "text": [
      "Elige una opción:  1\n",
      "Ingresa un número:  100\n"
     ]
    },
    {
     "name": "stdout",
     "output_type": "stream",
     "text": [
      "✅ Número agregado correctamente.\n",
      "\n",
      "--- MENÚ ---\n",
      "1. Agregar un número a la lista\n",
      "2. Mostrar todos los números\n",
      "3. Ordenar la lista de menor a mayor\n",
      "4. Calcular la suma total de la lista\n",
      "5. Salir\n"
     ]
    },
    {
     "name": "stdin",
     "output_type": "stream",
     "text": [
      "Elige una opción:  1\n",
      "Ingresa un número:  500\n"
     ]
    },
    {
     "name": "stdout",
     "output_type": "stream",
     "text": [
      "✅ Número agregado correctamente.\n",
      "\n",
      "--- MENÚ ---\n",
      "1. Agregar un número a la lista\n",
      "2. Mostrar todos los números\n",
      "3. Ordenar la lista de menor a mayor\n",
      "4. Calcular la suma total de la lista\n",
      "5. Salir\n"
     ]
    },
    {
     "name": "stdin",
     "output_type": "stream",
     "text": [
      "Elige una opción:  1\n",
      "Ingresa un número:  600\n"
     ]
    },
    {
     "name": "stdout",
     "output_type": "stream",
     "text": [
      "✅ Número agregado correctamente.\n",
      "\n",
      "--- MENÚ ---\n",
      "1. Agregar un número a la lista\n",
      "2. Mostrar todos los números\n",
      "3. Ordenar la lista de menor a mayor\n",
      "4. Calcular la suma total de la lista\n",
      "5. Salir\n"
     ]
    },
    {
     "name": "stdin",
     "output_type": "stream",
     "text": [
      "Elige una opción:  2\n"
     ]
    },
    {
     "name": "stdout",
     "output_type": "stream",
     "text": [
      "📋 Los números en la lista son: [100, 500, 600]\n",
      "\n",
      "--- MENÚ ---\n",
      "1. Agregar un número a la lista\n",
      "2. Mostrar todos los números\n",
      "3. Ordenar la lista de menor a mayor\n",
      "4. Calcular la suma total de la lista\n",
      "5. Salir\n"
     ]
    },
    {
     "name": "stdin",
     "output_type": "stream",
     "text": [
      "Elige una opción:  3\n"
     ]
    },
    {
     "name": "stdout",
     "output_type": "stream",
     "text": [
      "📊 Lista ordenada: [100, 500, 600]\n",
      "\n",
      "--- MENÚ ---\n",
      "1. Agregar un número a la lista\n",
      "2. Mostrar todos los números\n",
      "3. Ordenar la lista de menor a mayor\n",
      "4. Calcular la suma total de la lista\n",
      "5. Salir\n"
     ]
    },
    {
     "name": "stdin",
     "output_type": "stream",
     "text": [
      "Elige una opción:  4\n"
     ]
    },
    {
     "name": "stdout",
     "output_type": "stream",
     "text": [
      "➕ La suma total es: 1200\n",
      "\n",
      "--- MENÚ ---\n",
      "1. Agregar un número a la lista\n",
      "2. Mostrar todos los números\n",
      "3. Ordenar la lista de menor a mayor\n",
      "4. Calcular la suma total de la lista\n",
      "5. Salir\n"
     ]
    },
    {
     "name": "stdin",
     "output_type": "stream",
     "text": [
      "Elige una opción:  5\n"
     ]
    },
    {
     "name": "stdout",
     "output_type": "stream",
     "text": [
      "👋 Saliendo del programa...\n"
     ]
    }
   ],
   "source": [
    "##### Haz un menu que se repita hasta que el usuario desee salir del el programa\n",
    "\n",
    "## 1. Agregar un numero a la lista\n",
    "## 2. Mostrar todos los numeros\n",
    "## 3. ordenar la lista de menor a mayor\n",
    "## 4. calcular la suma total de la lista\n",
    "## 5. salir\n",
    "\n",
    "\n",
    "\n",
    "def menu():\n",
    "    lista = []\n",
    "    while True:\n",
    "        print(\"\\n--- MENÚ ---\")\n",
    "        print(\"1. Agregar un número a la lista\")\n",
    "        print(\"2. Mostrar todos los números\")\n",
    "        print(\"3. Ordenar la lista de menor a mayor\")\n",
    "        print(\"4. Calcular la suma total de la lista\")\n",
    "        print(\"5. Salir\")\n",
    "\n",
    "        opcion = input(\"Elige una opción: \")\n",
    "\n",
    "        if opcion == \"1\":\n",
    "            try:\n",
    "                numero = int(input(\"Ingresa un número: \"))\n",
    "                lista.append(numero)\n",
    "                print(\"✅ Número agregado correctamente.\")\n",
    "            except ValueError:\n",
    "                print(\"⚠️ Debes ingresar un número válido.\")\n",
    "\n",
    "        elif opcion == \"2\":\n",
    "            if lista:\n",
    "                print(\"📋 Los números en la lista son:\", lista)\n",
    "            else:\n",
    "                print(\"⚠️ La lista está vacía.\")\n",
    "\n",
    "        elif opcion == \"3\":\n",
    "            if lista:\n",
    "                lista.sort()\n",
    "                print(\"📊 Lista ordenada:\", lista)\n",
    "            else:\n",
    "                print(\"⚠️ No hay números para ordenar.\")\n",
    "\n",
    "        elif opcion == \"4\":\n",
    "            if lista:\n",
    "                print(\"➕ La suma total es:\", sum(lista))\n",
    "            else:\n",
    "                print(\"⚠️ La lista está vacía, no hay nada que sumar.\")\n",
    "\n",
    "        elif opcion == \"5\":\n",
    "            print(\"👋 Saliendo del programa...\")\n",
    "            break\n",
    "\n",
    "        else:\n",
    "            print(\"❌ Opción inválida, intenta de nuevo.\")\n",
    "\n",
    "menu()\n"
   ]
  },
  {
   "cell_type": "code",
   "execution_count": null,
   "id": "1b4ffad3-bcce-4c74-8029-bd16ed950034",
   "metadata": {},
   "outputs": [],
   "source": []
  }
 ],
 "metadata": {
  "kernelspec": {
   "display_name": "Python 3 (ipykernel)",
   "language": "python",
   "name": "python3"
  },
  "language_info": {
   "codemirror_mode": {
    "name": "ipython",
    "version": 3
   },
   "file_extension": ".py",
   "mimetype": "text/x-python",
   "name": "python",
   "nbconvert_exporter": "python",
   "pygments_lexer": "ipython3",
   "version": "3.13.5"
  }
 },
 "nbformat": 4,
 "nbformat_minor": 5
}
