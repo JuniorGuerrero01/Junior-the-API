{
 "cells": [
  {
   "cell_type": "code",
   "execution_count": 20,
   "id": "a07105af-42dd-4a0f-aa78-0164adbadac8",
   "metadata": {
    "scrolled": true
   },
   "outputs": [
    {
     "name": "stdout",
     "output_type": "stream",
     "text": [
      "Dicionario + lista:\n",
      " \n"
     ]
    },
    {
     "name": "stdin",
     "output_type": "stream",
     "text": [
      "Ingrese el nombre:  omar\n",
      "Ingrese el numero:  999\n",
      "Ingrese el segundo nombre:  bolo\n",
      "Ingrese el segundo numero:  888\n",
      "Ingrese el tercer nombre:  carmona\n",
      "Ingrese el tercer numero:  75656587\n"
     ]
    },
    {
     "name": "stdout",
     "output_type": "stream",
     "text": [
      "Estas son todas las claves:\n",
      "\n",
      "dict_keys(['omar', 'bolo', 'carmona'])\n",
      "Estos son los valores:\n",
      "\n",
      "dict_values(['999', '888', '75656587'])\n",
      "Todos los contactos:\n",
      "  {'omar': '999', 'bolo': '888', 'carmona': '75656587'}\n"
     ]
    },
    {
     "name": "stdin",
     "output_type": "stream",
     "text": [
      "Si deseas elimiar un contacto precione el numero 5 pero si no desea eliminar un contacto precione 0' 0\n",
      "Ingrese el contacto que desea elimiar 0\n"
     ]
    },
    {
     "name": "stdout",
     "output_type": "stream",
     "text": [
      "Lista actuaalizada\n",
      "\n",
      "{'omar': '999', 'bolo': '888', 'carmona': '75656587'}\n"
     ]
    }
   ],
   "source": [
    "## Agenda de contacto (Diccionario + lista)\n",
    "##Crea un programa que:\n",
    "\n",
    "## 1. Le pida al usario 3 contactos (Nombre, y numero de telefono)\n",
    "## 2. Guarde los contactos en un dicionario, donde la clave sea el nombre y el valor y el numero\n",
    "## 3.luego, muestre todas las claves(Nombre)\n",
    "##   Muestre todos los valores \n",
    "##   Pregunte si quiere elimiar un contacto(usando el del)\n",
    "print(\"Dicionario + lista:\\n \")\n",
    "\n",
    "contactos_name = input(\"Ingrese el nombre: \")\n",
    "contactos_numero = input(\"Ingrese el numero: \")\n",
    "\n",
    "contactos_name1 = input(\"Ingrese el segundo nombre: \")\n",
    "contactos_numero1 = input(\"Ingrese el segundo numero: \")\n",
    "\n",
    "contactos_name2 = input(\"Ingrese el tercer nombre: \")\n",
    "contactos_numero2 =  input(\"Ingrese el tercer numero: \")\n",
    "\n",
    "contactos = {}\n",
    "\n",
    "contactos[contactos_name] = contactos_numero\n",
    "contactos[contactos_name1] = contactos_numero1\n",
    "contactos[contactos_name2] = contactos_numero2\n",
    "\n",
    "print(\"Estas son todas las claves:\\n\")\n",
    "print(contactos.keys())\n",
    "\n",
    "print(\"Estos son los valores:\\n\")\n",
    "print(contactos.values())\n",
    "\n",
    "print(\"Todos los contactos:\\n \",contactos)\n",
    "\n",
    "eliminar = input(\"Si deseas elimiar un contacto precione el numero 5 pero si no desea eliminar un contacto precione 0'\")\n",
    "eliminar_contactos= input(\"Ingrese el contacto que desea elimiar\")\n",
    "\n",
    "if eliminar == \"5\":del(contactos[eliminar_contactos])\n",
    "\n",
    "print(\"Lista actuaalizada\\n\")                       \n",
    "print(contactos)\n"
   ]
  },
  {
   "cell_type": "code",
   "execution_count": 55,
   "id": "b7998363-bbc3-4011-9052-d7a7d195f2a4",
   "metadata": {},
   "outputs": [
    {
     "name": "stdout",
     "output_type": "stream",
     "text": [
      "Lista de compras: lista + metodos\n",
      "\n"
     ]
    },
    {
     "name": "stdin",
     "output_type": "stream",
     "text": [
      "Ingrese el primer prodcuto:  huevo\n",
      "Ingrese el segundor prodcuto:  arroz\n",
      "Ingrese el tercer prodcuto:  agua\n"
     ]
    },
    {
     "name": "stdout",
     "output_type": "stream",
     "text": [
      "['huevo', 'arroz', 'agua']\n"
     ]
    },
    {
     "name": "stdin",
     "output_type": "stream",
     "text": [
      "Quieres agregar mas producto si la respuesta es si selecione 1 1\n",
      "Ingrese el nuevo prodecto habichuela\n"
     ]
    },
    {
     "name": "stdout",
     "output_type": "stream",
     "text": [
      "['huevo', 'arroz', 'agua', 'habichuela']\n"
     ]
    },
    {
     "name": "stdin",
     "output_type": "stream",
     "text": [
      "Ingrese la posicion del producto 3\n",
      "Ingrese el nombre del producto que quieren agregar jugo\n"
     ]
    },
    {
     "name": "stdout",
     "output_type": "stream",
     "text": [
      "['huevo', 'arroz', 'agua', 'jugo']\n"
     ]
    },
    {
     "name": "stdin",
     "output_type": "stream",
     "text": [
      "Ingrese la posicion que desea eliminar 3\n"
     ]
    },
    {
     "name": "stdout",
     "output_type": "stream",
     "text": [
      "['huevo', 'arroz', 'agua']\n",
      "La cantidad de producto que queda es:  3\n"
     ]
    }
   ],
   "source": [
    "## Carrito de compra (Listas + Metodos)\n",
    "## 1. Empieza con una lista vacia carrito = []\n",
    "## 2. Pidele al usario que agregue productos con Append() (Minimo 3 producto)\n",
    "## 3. Preguntele si quieres añadir mas productos de otra lista (Usa extend())\n",
    "## 4. Modifica un producto ej: cambiar \"arroz\" por \"habichuela\"\n",
    "## 5. elimina un producto con del\n",
    "## 6. Finalmente, imprime el carrito completo y cuanto productos hay (Len()\n",
    "\n",
    "print(\"Lista de compras: lista + metodos\\n\")\n",
    "\n",
    "carrito = []\n",
    "\n",
    "producto = input(\"Ingrese el primer prodcuto: \")\n",
    "producto1 = input(\"Ingrese el segundor prodcuto: \")\n",
    "producto2 = input(\"Ingrese el tercer prodcuto: \")\n",
    "\n",
    "carrito.append(producto)\n",
    "carrito.append(producto1)\n",
    "carrito.append(producto2)\n",
    "\n",
    "print(carrito)\n",
    "\n",
    "masProducto = input(\"Quieres agregar mas producto si la respuesta es si selecione 1\")\n",
    "if masProducto == \"1\": newProducto = input(\"Ingrese el nuevo prodecto\")\n",
    "\n",
    "carrito.extend([newProducto])\n",
    "print(carrito)\n",
    "\n",
    "cambiar =int(input(\"Ingrese la posicion del producto\"))\n",
    "cambio = input(\"Ingrese el nombre del producto que quieren agregar\")\n",
    "carrito[cambiar] = cambio\n",
    "\n",
    "print(carrito)\n",
    "\n",
    "eliminar = int(input(\"Ingrese la posicion que desea eliminar\"))\n",
    "del(carrito[eliminar])\n",
    "print(carrito)\n",
    "\n",
    "print(f\"La cantidad de producto que queda es:  {len(carrito)}\")\n",
    "\n",
    "\n",
    "\n"
   ]
  },
  {
   "cell_type": "code",
   "execution_count": null,
   "id": "afd3defb-3797-4ff1-994e-8946a83fc32e",
   "metadata": {},
   "outputs": [
    {
     "name": "stdout",
     "output_type": "stream",
     "text": [
      "Calificaciones Tuplas + Listas\n"
     ]
    }
   ],
   "source": [
    "## Analisis de notas (Tuplas + Listas)\n",
    "\n",
    "## 1. Crea una tupla de nota con 5 calificaciones ej: (70,85,90,100)\n",
    "## 2. convierte la tupla a lista\n",
    "## 3. elimina la nota mas baja (del) y reemplaza por por otra que el usuario ingrese\n",
    "## 4. Duplica la lista para simular que tienes dos grupos de estudiantes\n",
    "## 5. Imprime la cantidad total de notas con lend\n",
    "\n",
    "print(\"Calificaciones Tuplas + Listas\")\n",
    "\n",
    "calificacion = int(input(\"Ingrese la primera nota\"))\n",
    "calificacion1 = int(input(\"Ingrese la segunda nota\"))\n",
    "calificacion2 = int(input(\"Ingrese la tercera nota\"))\n",
    "calificacion3 = int(input(\"Ingrese la cuarta nota\"))\n",
    "calificacion4 = int(input(\"Ingrese la quinta nota\"))\n",
    "\n",
    "nota = (calificacion,calificacion1,calificacion2,calificacion3,calificacion4)\n",
    "\n",
    "print(f\"La nota en la duplas es: \", nota)\n",
    "\n",
    "my_list = list(nota)\n",
    "\n",
    "\n",
    "print(f\"Las notas en la listas son: \", my_list)\n",
    "\n",
    "eliminarNota = int(input(\"Ingrese la posicion  de la nota  que deseas eliminar\"))\n",
    "nuevaNota = int(input(\"Ingrese la nueva nota\"))\n",
    "my_list[eliminarNota] = nuevaNota\n",
    "print(my_list)\n",
    "\n",
    "#Duplicar mi lista\n",
    "\n",
    "Minueva_List = my_list[:]\n",
    "print(Minueva_List)\n",
    "print(f\"Notas Total: \", {len(my_list)})\n",
    "\n"
   ]
  },
  {
   "cell_type": "code",
   "execution_count": null,
   "id": "899485c6-1f9b-42fc-88f9-182820df4323",
   "metadata": {},
   "outputs": [],
   "source": []
  }
 ],
 "metadata": {
  "kernelspec": {
   "display_name": "Python 3 (ipykernel)",
   "language": "python",
   "name": "python3"
  },
  "language_info": {
   "codemirror_mode": {
    "name": "ipython",
    "version": 3
   },
   "file_extension": ".py",
   "mimetype": "text/x-python",
   "name": "python",
   "nbconvert_exporter": "python",
   "pygments_lexer": "ipython3",
   "version": "3.13.5"
  }
 },
 "nbformat": 4,
 "nbformat_minor": 5
}
