{
 "cells": [
  {
   "cell_type": "code",
   "execution_count": 7,
   "id": "ebd9036e-587c-40ee-8d06-7742b5eed407",
   "metadata": {},
   "outputs": [
    {
     "name": "stdout",
     "output_type": "stream",
     "text": [
      "División con manejo de excepciones\n"
     ]
    },
    {
     "name": "stdin",
     "output_type": "stream",
     "text": [
      "Escriba el primer número (o 'salir' para terminar):  0\n",
      "Escriba el segundo número (o 'salir' para terminar):  0\n"
     ]
    },
    {
     "name": "stdout",
     "output_type": "stream",
     "text": [
      "❌ No se puede dividir entre 0\n"
     ]
    },
    {
     "name": "stdin",
     "output_type": "stream",
     "text": [
      "Escriba el primer número (o 'salir' para terminar):  77\n",
      "Escriba el segundo número (o 'salir' para terminar):  80\n"
     ]
    },
    {
     "name": "stdout",
     "output_type": "stream",
     "text": [
      "✅ El resultado de 77.0 / 80.0 es: 0.9625\n"
     ]
    },
    {
     "name": "stdin",
     "output_type": "stream",
     "text": [
      "Escriba el primer número (o 'salir' para terminar):  salir\n"
     ]
    },
    {
     "name": "stdout",
     "output_type": "stream",
     "text": [
      "Programa terminado\n"
     ]
    }
   ],
   "source": [
    "## Division con manejo de exepciones\n",
    "## Crea una funcion que pida dos numero y muestre el resultado de la division\n",
    "## 1. si el usuario intenta divir entre 0 , captura la exepcion y muestra un mensaje, no se puede hacer la division\n",
    "## 2. usa el while true para que siga pidiendo numeros hasta que el usario escriba salir\n",
    "\n",
    "\n",
    "\n",
    "\n",
    "print(\"División con manejo de excepciones\")\n",
    "\n",
    "def division(numero1, numero2):\n",
    "    try:\n",
    "        resultado = numero1 / numero2\n",
    "        return resultado\n",
    "    except ZeroDivisionError:\n",
    "        print(\"❌ No se puede dividir entre 0\")\n",
    "        return None\n",
    "    except ValueError:\n",
    "        print(\"⚠️ Escriba un valor válido\")\n",
    "        return None\n",
    "\n",
    "while True:\n",
    "    try:\n",
    "        \n",
    "        num1 = input(\"Escriba el primer número (o 'salir' para terminar): \")\n",
    "        if num1.lower() == \"salir\":\n",
    "            print(\"Programa terminado\")\n",
    "            break\n",
    "\n",
    "        \n",
    "        num2 = input(\"Escriba el segundo número (o 'salir' para terminar): \")\n",
    "        if num2.lower() == \"salir\":\n",
    "            print(\"Programa terminado\")\n",
    "            break\n",
    "\n",
    "        \n",
    "        num1 = float(num1)\n",
    "        num2 = float(num2)\n",
    "\n",
    "\n",
    "        resultado = division(num1, num2)\n",
    "\n",
    "        \n",
    "        if resultado is not None:\n",
    "            print(f\"✅ El resultado de {num1} / {num2} es: {resultado}\")\n",
    "\n",
    "    except Exception as e:\n",
    "        print(f\"⚠️ Error: {str(e)}\")\n",
    "\n",
    "\n",
    "\n",
    "    \n",
    "\n",
    "\n"
   ]
  },
  {
   "cell_type": "code",
   "execution_count": 14,
   "id": "d9be4842-3d07-4785-a96c-244cdf36d588",
   "metadata": {},
   "outputs": [
    {
     "name": "stdin",
     "output_type": "stream",
     "text": [
      "Ingrese el Nombre del estudiante:  omar api\n",
      "Ingrese la edad del estudiante:  55\n",
      "Ingrese una nota (o escriba 'salir' para terminar):  100\n",
      "Ingrese una nota (o escriba 'salir' para terminar):  100\n",
      "Ingrese una nota (o escriba 'salir' para terminar):  98\n",
      "Ingrese una nota (o escriba 'salir' para terminar):  97\n",
      "Ingrese una nota (o escriba 'salir' para terminar):  99\n",
      "Ingrese una nota (o escriba 'salir' para terminar):  96\n",
      "Ingrese una nota (o escriba 'salir' para terminar):  92\n",
      "Ingrese una nota (o escriba 'salir' para terminar):  salir\n",
      "Desea agregar más Notas? (si o no):  no\n"
     ]
    },
    {
     "name": "stdout",
     "output_type": "stream",
     "text": [
      "El promedio del estudiante omar api es de: 97.42857142857143\n",
      "Mayor nota del estudiante omar api es de: 100.0\n",
      "La menor nota del estudiante omar api es de: 92.0\n"
     ]
    }
   ],
   "source": [
    "## Clase estudiante\n",
    "\n",
    "## Crea una clase llamda Estudiante con:\n",
    "## 1. Atributo: Nombre, edad ,notas lista de calificacion\n",
    "## 2. Metodo agregar_nota para añadir una nota\n",
    "## 3. metodo promedio para calcular el promedio\n",
    "## 4. metodo mayor_nota y menor_nota\n",
    "\n",
    "class Estudiante:\n",
    "    def __init__(self, nombre, edad):\n",
    "        self.nombre = nombre\n",
    "        self.edad = edad\n",
    "        self.notas = []\n",
    "    \n",
    "    def Añadir_nota(self, nota):\n",
    "        self.notas.append(nota)\n",
    "\n",
    "    def promedio(self):\n",
    "        if len(self.notas) == 0:\n",
    "            return 0\n",
    "        return sum(self.notas) / len(self.notas)\n",
    "\n",
    "    def mayor(self):\n",
    "        if len(self.notas) == 0:\n",
    "            return None\n",
    "        return max(self.notas)\n",
    "\n",
    "    def menor(self):\n",
    "        if len(self.notas) == 0:\n",
    "            return None\n",
    "        return min(self.notas)\n",
    "        \n",
    "\n",
    "nombre = input(\"Ingrese el Nombre del estudiante: \")\n",
    "edad = int(input(\"Ingrese la edad del estudiante: \"))\n",
    "\n",
    "\n",
    "Estudiante = Estudiante(nombre, edad)\n",
    "\n",
    "while True:\n",
    "    try:\n",
    "        nota = float(input(\"Ingrese una nota (o escriba 'salir' para terminar): \"))\n",
    "        Estudiante.Añadir_nota(nota)\n",
    "    except ValueError:\n",
    "        opcion = input(\"Desea agregar más Notas? (si o no): \").strip().lower()\n",
    "        if opcion != \"si\":\n",
    "            break\n",
    "\n",
    "# Mostrar los resultados\n",
    "print(f\"El promedio del estudiante {Estudiante.nombre} es de: {Estudiante.promedio()}\")\n",
    "print(f\"Mayor nota del estudiante {Estudiante.nombre} es de: {Estudiante.mayor()}\")\n",
    "print(f\"La menor nota del estudiante {Estudiante.nombre} es de: {Estudiante.menor()}\")\n",
    "\n"
   ]
  },
  {
   "cell_type": "code",
   "execution_count": 10,
   "id": "f6356049-4852-4379-b0cd-23225d1cbe08",
   "metadata": {},
   "outputs": [
    {
     "name": "stdin",
     "output_type": "stream",
     "text": [
      "\n",
      "Ingrese la opción que desea realizar:\n",
      "1 - Depositar dinero\n",
      "2 - Retirar dinero\n",
      "3 - Mostrar saldo\n",
      "4 - Salir\n",
      ">>  1\n",
      "Ingrese la cantidad que desea depositar:  20000\n"
     ]
    },
    {
     "name": "stdout",
     "output_type": "stream",
     "text": [
      "Depósito exitoso. Su nuevo saldo es: 21000.0\n"
     ]
    },
    {
     "name": "stdin",
     "output_type": "stream",
     "text": [
      "\n",
      "Ingrese la opción que desea realizar:\n",
      "1 - Depositar dinero\n",
      "2 - Retirar dinero\n",
      "3 - Mostrar saldo\n",
      "4 - Salir\n",
      ">>  2\n",
      "Ingrese la cantidad que desea retirar:  19000\n"
     ]
    },
    {
     "name": "stdout",
     "output_type": "stream",
     "text": [
      "Retiro exitoso. Su nuevo saldo es: 2000.0\n"
     ]
    },
    {
     "name": "stdin",
     "output_type": "stream",
     "text": [
      "\n",
      "Ingrese la opción que desea realizar:\n",
      "1 - Depositar dinero\n",
      "2 - Retirar dinero\n",
      "3 - Mostrar saldo\n",
      "4 - Salir\n",
      ">>  3\n"
     ]
    },
    {
     "name": "stdout",
     "output_type": "stream",
     "text": [
      "Su saldo es de: 2000.0\n"
     ]
    },
    {
     "name": "stdin",
     "output_type": "stream",
     "text": [
      "\n",
      "Ingrese la opción que desea realizar:\n",
      "1 - Depositar dinero\n",
      "2 - Retirar dinero\n",
      "3 - Mostrar saldo\n",
      "4 - Salir\n",
      ">>  2\n",
      "Ingrese la cantidad que desea retirar:  200000\n"
     ]
    },
    {
     "name": "stdout",
     "output_type": "stream",
     "text": [
      "Fondos insuficientes\n"
     ]
    },
    {
     "name": "stdin",
     "output_type": "stream",
     "text": [
      "\n",
      "Ingrese la opción que desea realizar:\n",
      "1 - Depositar dinero\n",
      "2 - Retirar dinero\n",
      "3 - Mostrar saldo\n",
      "4 - Salir\n",
      ">>  4\n"
     ]
    },
    {
     "name": "stdout",
     "output_type": "stream",
     "text": [
      "Has salido del programa.\n"
     ]
    }
   ],
   "source": [
    "## Cajero automatico orientado a objecto + excepciones\n",
    "## Crea una clase  llamda cajero con:\n",
    "## 1. Atributo saldo inicial en 1000\n",
    "## 2. Metodo despositar(Monto)\n",
    "## 3. Metodo retirar(Monto) si el monto es mayor al saldo, lanza una excepcion con un mensaje\"Fondo\" insuficiente\n",
    "## 4. metodo montras_saldo\n",
    "\n",
    "## Haz un menu while y input para que el usuario:\n",
    "\n",
    "## 1. Deposito\n",
    "## 2. Retire dinero\n",
    "## 3. Muestre el saldo\n",
    "## 4. Salgo\n",
    "\n",
    "\n",
    "\n",
    "class Cajero:\n",
    "    def __init__(self, saldo=1000):\n",
    "        self.saldo = saldo\n",
    "\n",
    "    def depositar(self, monto):\n",
    "        self.saldo += monto\n",
    "        return self.saldo\n",
    "\n",
    "    def retirar(self, monto):\n",
    "        if monto <= self.saldo:\n",
    "            self.saldo -= monto\n",
    "            return True\n",
    "        else:\n",
    "            print(\"Fondos insuficientes\")\n",
    "            return False\n",
    "\n",
    "    def mostrar_saldo(self):\n",
    "        return self.saldo\n",
    "\n",
    "\n",
    "\n",
    "cajero = Cajero()\n",
    "\n",
    "\n",
    "entrar = True\n",
    "\n",
    "while entrar:\n",
    "    opcion = input(\n",
    "        \"\\nIngrese la opción que desea realizar:\\n\"\n",
    "        \"1 - Depositar dinero\\n\"\n",
    "        \"2 - Retirar dinero\\n\"\n",
    "        \"3 - Mostrar saldo\\n\"\n",
    "        \"4 - Salir\\n\"\n",
    "        \">> \"\n",
    "    )\n",
    "\n",
    "    if opcion == \"1\":\n",
    "        try:\n",
    "            monto = float(input(\"Ingrese la cantidad que desea depositar: \"))\n",
    "            cajero.depositar(monto)\n",
    "            print(f\"Depósito exitoso. Su nuevo saldo es: {cajero.mostrar_saldo()}\")\n",
    "        except ValueError:\n",
    "            print(\"Debe ingresar un número válido.\")\n",
    "\n",
    "    elif opcion == \"2\":\n",
    "        try:\n",
    "            monto = float(input(\"Ingrese la cantidad que desea retirar: \"))\n",
    "            if cajero.retirar(monto):\n",
    "                print(f\"Retiro exitoso. Su nuevo saldo es: {cajero.mostrar_saldo()}\")\n",
    "        except ValueError:\n",
    "            print(\"Debe ingresar un número válido.\")\n",
    "\n",
    "    elif opcion == \"3\":\n",
    "        print(f\"Su saldo es de: {cajero.mostrar_saldo()}\")\n",
    "\n",
    "    elif opcion == \"4\":\n",
    "        entrar = False\n",
    "        print(\"Has salido del programa.\")\n",
    "\n",
    "    else:\n",
    "        print(\"Opción no válida, intente nuevamente.\")\n",
    "\n",
    "\n",
    "        \n",
    "\n",
    "\n",
    "    \n",
    "        \n",
    "        \n"
   ]
  },
  {
   "cell_type": "code",
   "execution_count": null,
   "id": "49bcfc4e-dd7d-49f2-ab05-0e64cffe9dc0",
   "metadata": {},
   "outputs": [],
   "source": []
  },
  {
   "cell_type": "code",
   "execution_count": null,
   "id": "d0053f21-7876-4749-b688-03f4705ad38f",
   "metadata": {},
   "outputs": [],
   "source": []
  }
 ],
 "metadata": {
  "kernelspec": {
   "display_name": "Python 3 (ipykernel)",
   "language": "python",
   "name": "python3"
  },
  "language_info": {
   "codemirror_mode": {
    "name": "ipython",
    "version": 3
   },
   "file_extension": ".py",
   "mimetype": "text/x-python",
   "name": "python",
   "nbconvert_exporter": "python",
   "pygments_lexer": "ipython3",
   "version": "3.13.5"
  }
 },
 "nbformat": 4,
 "nbformat_minor": 5
}
