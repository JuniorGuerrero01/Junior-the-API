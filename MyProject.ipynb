{
 "cells": [
  {
   "cell_type": "markdown",
   "id": "cfcd9be4-89fb-4a50-81dc-ef34732cd0c8",
   "metadata": {},
   "source": [
    "# This is may project in the language python"
   ]
  },
  {
   "cell_type": "markdown",
   "id": "c04d81a5-682b-43d4-8333-fbec031d1962",
   "metadata": {},
   "source": [
    "# This is may project that Notebook done in the language python whitc the library jupyter"
   ]
  },
  {
   "cell_type": "markdown",
   "id": "a170e56d-1320-4317-8f53-22c466d45f61",
   "metadata": {},
   "source": [
    "# These are the data science languages\n",
    "\n",
    "1. Python\n",
    "2. Java\n",
    "3. R\n",
    "4. Sql\n",
    "5. C++\n",
    "6. JavaScript"
   ]
  },
  {
   "cell_type": "markdown",
   "id": "d6c54d90-9ec0-4675-8299-38e957ff5543",
   "metadata": {},
   "source": [
    "# These are the library  more popular for data science\n",
    "\n",
    "1. Pandas\n",
    "2. Keras\n",
    "3. Matploit\n",
    "4. TensorFlow\n",
    "5. Seaborn\n",
    "6. Plotly"
   ]
  },
  {
   "cell_type": "markdown",
   "id": "837443dd-3f8b-4c89-ac5a-c30c0f1da317",
   "metadata": {},
   "source": [
    "# Tools for data Science\n",
    "----------------------------------\n",
    "|Tools            | Description  |\n",
    "|-----------------|--------------|\n",
    "| Apache spark    | Processing   |\n",
    "| Julia           | Speed        |\n",
    "| Power BI        | Vizualization|\n",
    "| Jupyter Notebook| Interactivity|"
   ]
  },
  {
   "cell_type": "code",
   "execution_count": 1,
   "id": "8db97366-7343-4b1c-8b0b-a8bd40292320",
   "metadata": {},
   "outputs": [
    {
     "name": "stdout",
     "output_type": "stream",
     "text": [
      "2210\n"
     ]
    }
   ],
   "source": [
    "# This is a Little divition arithmetic\n",
    "\n",
    "a = (22 * 100) + 10\n",
    "print(a)"
   ]
  },
  {
   "cell_type": "code",
   "execution_count": 2,
   "id": "7528f7db-389d-4794-9ec8-e4f9884930be",
   "metadata": {},
   "outputs": [
    {
     "name": "stdout",
     "output_type": "stream",
     "text": [
      "11.666666666666666\n"
     ]
    }
   ],
   "source": [
    "# This is the cell covert 700 minute to Hours.\n",
    "\n",
    "M = 700\n",
    "M2 = 60\n",
    "H = M / M2\n",
    "Resul = H\n",
    "print(Resul)\n",
    "\n"
   ]
  },
  {
   "cell_type": "code",
   "execution_count": null,
   "id": "3a71b803-f3ff-477b-b0fd-eaafa21dd3dd",
   "metadata": {},
   "outputs": [],
   "source": [
    "# Objetives \n",
    "\n",
    "1. library different\n",
    "2. learn about data science\n",
    "3. some language for data science\n"
   ]
  },
  {
   "cell_type": "markdown",
   "id": "55e2f4ee-d393-44fd-9226-2e9615e09a94",
   "metadata": {},
   "source": [
    "# The name of the author of this code is \n",
    "\n",
    "Omar Junior Guerrero "
   ]
  }
 ],
 "metadata": {
  "kernelspec": {
   "display_name": "Python 3 (ipykernel)",
   "language": "python",
   "name": "python3"
  },
  "language_info": {
   "codemirror_mode": {
    "name": "ipython",
    "version": 3
   },
   "file_extension": ".py",
   "mimetype": "text/x-python",
   "name": "python",
   "nbconvert_exporter": "python",
   "pygments_lexer": "ipython3",
   "version": "3.13.5"
  }
 },
 "nbformat": 4,
 "nbformat_minor": 5
}
